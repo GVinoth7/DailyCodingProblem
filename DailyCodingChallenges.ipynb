{
 "cells": [
  {
   "cell_type": "markdown",
   "id": "e91a413a",
   "metadata": {},
   "source": [
    "# Given a list of numbers and a number k, return whether any two numbers from the list add up to k.\n",
    "\n",
    "For example, given [10, 15, 3, 7] and k of 17, return true since 10 + 7 is 17."
   ]
  },
  {
   "cell_type": "code",
   "execution_count": 5,
   "id": "19435d93",
   "metadata": {},
   "outputs": [
    {
     "name": "stdout",
     "output_type": "stream",
     "text": [
      "10 7\n",
      "CPU times: user 414 µs, sys: 168 µs, total: 582 µs\n",
      "Wall time: 543 µs\n"
     ]
    }
   ],
   "source": [
    "%%time\n",
    "k_list = [10,15,3,7]\n",
    "k_total = 17\n",
    "\n",
    "k_combinations= []\n",
    "for k in range(len(k_list)):\n",
    "    for j in range(k, len(k_list)):\n",
    "        if k_list[k] + k_list[j] == k_total:\n",
    "            print(k_list[k], k_list[j])"
   ]
  },
  {
   "cell_type": "code",
   "execution_count": 4,
   "id": "7b66ec77",
   "metadata": {},
   "outputs": [
    {
     "name": "stdout",
     "output_type": "stream",
     "text": [
      "10 7\n",
      "CPU times: user 38 µs, sys: 8 µs, total: 46 µs\n",
      "Wall time: 43.9 µs\n"
     ]
    }
   ],
   "source": [
    "%%time\n",
    "#### Another Solution\n",
    "\n",
    "\n",
    "for k in k_list:\n",
    "    if k_total - k  in k_list:\n",
    "        print(k, k_total-k)\n",
    "        break"
   ]
  },
  {
   "cell_type": "code",
   "execution_count": null,
   "id": "80b80920",
   "metadata": {},
   "outputs": [],
   "source": []
  },
  {
   "cell_type": "code",
   "execution_count": null,
   "id": "1f799f4d",
   "metadata": {},
   "outputs": [],
   "source": []
  }
 ],
 "metadata": {
  "kernelspec": {
   "display_name": "Python 3 (ipykernel)",
   "language": "python",
   "name": "python3"
  },
  "language_info": {
   "codemirror_mode": {
    "name": "ipython",
    "version": 3
   },
   "file_extension": ".py",
   "mimetype": "text/x-python",
   "name": "python",
   "nbconvert_exporter": "python",
   "pygments_lexer": "ipython3",
   "version": "3.9.7"
  }
 },
 "nbformat": 4,
 "nbformat_minor": 5
}
