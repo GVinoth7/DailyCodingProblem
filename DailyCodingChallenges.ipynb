{
 "cells": [
  {
   "cell_type": "markdown",
   "id": "af8a9ba5",
   "metadata": {},
   "source": [
    "#Hello..! Its a small repository for the questions on DailyCodingProblem to start day with some challenges."
   ]
  },
  {
   "cell_type": "markdown",
   "id": "5811b993",
   "metadata": {},
   "source": [
    "given [9, 11, 8, 5, 7, 10], you should return 5, since you could buy the stock at 5 dollars and sell it at 10 dollars."
   ]
  },
  {
   "cell_type": "code",
   "execution_count": 65,
   "id": "54619e25",
   "metadata": {},
   "outputs": [
    {
     "name": "stdout",
     "output_type": "stream",
     "text": [
      "Best buy prices  83\n",
      "CPU times: user 999 ms, sys: 4.62 ms, total: 1 s\n",
      "Wall time: 1 s\n"
     ]
    }
   ],
   "source": [
    "%%time\n",
    "import random \n",
    "\n",
    "def max_profit(prices):\n",
    "    bestBuy = min(prices)\n",
    "    maxProfit = 1\n",
    "    for iterVal in range(len(prices)-1):\n",
    "        buy = prices[iterVal]\n",
    "    \n",
    "        for sellIter in range(iterVal, len(prices)):\n",
    "            sell = prices[sellIter]\n",
    "            profit = sell - buy\n",
    "            \n",
    "            if profit > maxProfit:\n",
    "                maxProfit = profit\n",
    "                bestBuy = buy\n",
    "\n",
    "    print(\"Best buy prices \", bestBuy)\n",
    "        \n",
    "\n",
    "stockPrices = random.sample(range(10, 300000), 5000) # #[ 9, 12, 8, 5, 7, 10]\n",
    "# print(stockPrices)\n",
    "max_profit(stockPrices)"
   ]
  },
  {
   "cell_type": "markdown",
   "id": "e181d03f",
   "metadata": {},
   "source": [
    "Given the mapping a = 1, b = 2, ... z = 26, and an encoded message, count the number of ways it can be decoded.\n",
    "For example, the message '111' would give 3, since it could be decoded as 'aaa', 'ka', and 'ak'.\n",
    "You can assume that the messages are decodable. For example, '001' is not allowed."
   ]
  },
  {
   "cell_type": "code",
   "execution_count": 48,
   "id": "f9021e28",
   "metadata": {},
   "outputs": [
    {
     "name": "stdout",
     "output_type": "stream",
     "text": [
      "[0, 0, 0, 0, 0] 0\n",
      " The reversed :  <range_iterator object at 0x105daab40>\n",
      " The data i :  2 4 34 12345 3 5\n",
      " The data i :  1 3 23 12345 2 4\n",
      " The data i :  0 2 12 12345 1 3\n",
      "CPU times: user 704 µs, sys: 142 µs, total: 846 µs\n",
      "Wall time: 804 µs\n"
     ]
    }
   ],
   "source": [
    "%%time\n",
    "import string\n",
    "\n",
    "dmap = dict(zip(range(1,27), string.ascii_lowercase))\n",
    "\n",
    "\n",
    "def solve(message):\n",
    "    # Write your code here\n",
    "    arr = [0] * len(message)\n",
    "    \n",
    "    print(arr, arr[-1])\n",
    "    \n",
    "    ### Initialization\n",
    "    \n",
    "    arr[-1]=1\n",
    "    if len(message) > 1:\n",
    "        arr[-2] = 2 if int(message[-2:]) in dmap else 1\n",
    "    \n",
    "#     # Fill the array\n",
    "    print(\" The reversed : \", reversed(range(len(message) - 2)))\n",
    "    for i in reversed(range(len(message) - 2)):\n",
    "        print(\" The data i : \", i , i+2, message[i:i+2], message, message[i], message[i+2])\n",
    "        into = int(message[i:i+2]) in dmap\n",
    "        arr[i] = arr[i+1] + (arr[i+2] if into else 0)\n",
    "\n",
    "\n",
    "solve('12345')\n",
    "\n",
    "### learning, dict creation with zip and algorithm to find the possible combinations"
   ]
  },
  {
   "cell_type": "markdown",
   "id": "e84dcab1",
   "metadata": {},
   "source": [
    "Given an array of integers, find the first missing positive integer in linear time and constant space. In other words, find the lowest positive integer that does not exist in the array. The array can contain duplicates and negative numbers as well.\n",
    "\n",
    "For example, the input [3, 4, -1, 1] should give 2. The input [1, 2, 0] should give 3."
   ]
  },
  {
   "cell_type": "code",
   "execution_count": 34,
   "id": "7d7ac3ff",
   "metadata": {},
   "outputs": [
    {
     "name": "stdout",
     "output_type": "stream",
     "text": [
      "1\n",
      "CPU times: user 409 µs, sys: 102 µs, total: 511 µs\n",
      "Wall time: 495 µs\n"
     ]
    }
   ],
   "source": [
    "%%time \n",
    "\n",
    "data = [3, 4, -1, 1]\n",
    "data = list(range(1, 101))\n",
    "\n",
    "\n",
    "\n",
    "def find_integer(data):\n",
    "    m = max(data)\n",
    "    if len(data)==1:\n",
    "        if data[0] == 1:\n",
    "            return 2\n",
    "        else:\n",
    "            return 1\n",
    "    if m < 1:\n",
    "        return 1\n",
    "        \n",
    "\n",
    "print(find_integer([0, -1, -2]))\n",
    "\n",
    "#learning,  find max to value to fix some if conditions\n"
   ]
  },
  {
   "cell_type": "markdown",
   "id": "e91a413a",
   "metadata": {},
   "source": [
    "# Given a list of numbers and a number k, return whether any two numbers from the list add up to k.\n",
    "\n",
    "For example, given [10, 15, 3, 7] and k of 17, return true since 10 + 7 is 17."
   ]
  },
  {
   "cell_type": "code",
   "execution_count": 23,
   "id": "19435d93",
   "metadata": {},
   "outputs": [
    {
     "name": "stdout",
     "output_type": "stream",
     "text": [
      "10 7\n",
      "CPU times: user 364 µs, sys: 255 µs, total: 619 µs\n",
      "Wall time: 602 µs\n"
     ]
    }
   ],
   "source": [
    "%%time\n",
    "k_list = [10,15,3,7]\n",
    "k_total = 17\n",
    "\n",
    "k_combinations= []\n",
    "for k in range(len(k_list)):\n",
    "    for j in range(k, len(k_list)):\n",
    "        if k_list[k] + k_list[j] == k_total:\n",
    "            print(k_list[k], k_list[j])"
   ]
  },
  {
   "cell_type": "code",
   "execution_count": 24,
   "id": "7b66ec77",
   "metadata": {},
   "outputs": [
    {
     "name": "stdout",
     "output_type": "stream",
     "text": [
      "10 7\n",
      "CPU times: user 36 µs, sys: 9 µs, total: 45 µs\n",
      "Wall time: 43.2 µs\n"
     ]
    }
   ],
   "source": [
    "%%time\n",
    "#### Another Solution\n",
    "\n",
    "for k in k_list:\n",
    "    if k_total - k  in k_list:\n",
    "        print(k, k_total-k)\n",
    "        break\n",
    "        \n",
    "## learning \n",
    "## Finding the value by neglecting other so, we know, two number in a single loop"
   ]
  },
  {
   "cell_type": "markdown",
   "id": "9e399ab7",
   "metadata": {},
   "source": [
    "# This problem was asked by Uber - 06/06/2022.\n",
    "Given an array of integers, return a new array such that each element at index i of the new array is the product \n",
    "of all the numbers in the original array except the one at i.\n",
    "\n",
    "For example, if our input was [1, 2, 3, 4, 5], the expected output would be [120, 60, 40, 30, 24]. If our input was [3, 2, 1], the expected output would be [2, 3, 6]\n"
   ]
  },
  {
   "cell_type": "code",
   "execution_count": 22,
   "id": "1f799f4d",
   "metadata": {},
   "outputs": [
    {
     "name": "stdout",
     "output_type": "stream",
     "text": [
      "[120.0, 60.0, 40.0, 30.0, 24.0]\n",
      "CPU times: user 82 µs, sys: 6 µs, total: 88 µs\n",
      "Wall time: 88 µs\n"
     ]
    }
   ],
   "source": [
    "%%time\n",
    "\n",
    "import math\n",
    "\n",
    "data = [1,2,3,4,5]\n",
    "result = []\n",
    "def process(data):\n",
    "    totalVal = int(math.prod(data))\n",
    "    for i in data:\n",
    "        result.append(totalVal/i)\n",
    "    return result\n",
    "\n",
    "print(process(data))"
   ]
  }
 ],
 "metadata": {
  "kernelspec": {
   "display_name": "Python 3 (ipykernel)",
   "language": "python",
   "name": "python3"
  },
  "language_info": {
   "codemirror_mode": {
    "name": "ipython",
    "version": 3
   },
   "file_extension": ".py",
   "mimetype": "text/x-python",
   "name": "python",
   "nbconvert_exporter": "python",
   "pygments_lexer": "ipython3",
   "version": "3.9.7"
  }
 },
 "nbformat": 4,
 "nbformat_minor": 5
}
