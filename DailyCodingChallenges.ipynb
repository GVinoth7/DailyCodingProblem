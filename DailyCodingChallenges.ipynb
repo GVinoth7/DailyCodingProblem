{
 "cells": [
  {
   "cell_type": "markdown",
   "id": "af8a9ba5",
   "metadata": {},
   "source": [
    "#Hello..! Its a small repository for the questions on DailyCodingProblem to start day with some challenges."
   ]
  },
  {
   "cell_type": "code",
   "execution_count": null,
   "id": "4b5b9a5d",
   "metadata": {},
   "outputs": [],
   "source": []
  },
  {
   "cell_type": "code",
   "execution_count": null,
   "id": "16baf789",
   "metadata": {},
   "outputs": [],
   "source": []
  },
  {
   "cell_type": "code",
   "execution_count": null,
   "id": "f9021e28",
   "metadata": {},
   "outputs": [],
   "source": []
  },
  {
   "cell_type": "code",
   "execution_count": null,
   "id": "1d0991a2",
   "metadata": {},
   "outputs": [],
   "source": []
  },
  {
   "cell_type": "code",
   "execution_count": null,
   "id": "7d7ac3ff",
   "metadata": {},
   "outputs": [],
   "source": []
  },
  {
   "cell_type": "markdown",
   "id": "e91a413a",
   "metadata": {},
   "source": [
    "# Given a list of numbers and a number k, return whether any two numbers from the list add up to k.\n",
    "\n",
    "For example, given [10, 15, 3, 7] and k of 17, return true since 10 + 7 is 17."
   ]
  },
  {
   "cell_type": "code",
   "execution_count": 11,
   "id": "19435d93",
   "metadata": {},
   "outputs": [
    {
     "name": "stdout",
     "output_type": "stream",
     "text": [
      "10 7\n",
      "CPU times: user 48 µs, sys: 7 µs, total: 55 µs\n",
      "Wall time: 53.9 µs\n"
     ]
    }
   ],
   "source": [
    "%%time\n",
    "k_list = [10,15,3,7]\n",
    "k_total = 17\n",
    "\n",
    "k_combinations= []\n",
    "for k in range(len(k_list)):\n",
    "    for j in range(k, len(k_list)):\n",
    "        if k_list[k] + k_list[j] == k_total:\n",
    "            print(k_list[k], k_list[j])"
   ]
  },
  {
   "cell_type": "code",
   "execution_count": 12,
   "id": "7b66ec77",
   "metadata": {},
   "outputs": [
    {
     "name": "stdout",
     "output_type": "stream",
     "text": [
      "10 7\n",
      "CPU times: user 51 µs, sys: 9 µs, total: 60 µs\n",
      "Wall time: 57 µs\n"
     ]
    }
   ],
   "source": [
    "%%time\n",
    "#### Another Solution\n",
    "\n",
    "for k in k_list:\n",
    "    if k_total - k  in k_list:\n",
    "        print(k, k_total-k)\n",
    "        break"
   ]
  },
  {
   "cell_type": "markdown",
   "id": "9e399ab7",
   "metadata": {},
   "source": [
    "# This problem was asked by Uber - 06/06/2022.\n",
    "Given an array of integers, return a new array such that each element at index i of the new array is the product \n",
    "of all the numbers in the original array except the one at i.\n",
    "\n",
    "For example, if our input was [1, 2, 3, 4, 5], the expected output would be [120, 60, 40, 30, 24]. If our input was [3, 2, 1], the expected output would be [2, 3, 6]\n"
   ]
  },
  {
   "cell_type": "code",
   "execution_count": 22,
   "id": "1f799f4d",
   "metadata": {},
   "outputs": [
    {
     "name": "stdout",
     "output_type": "stream",
     "text": [
      "[120.0, 60.0, 40.0, 30.0, 24.0]\n",
      "CPU times: user 82 µs, sys: 6 µs, total: 88 µs\n",
      "Wall time: 88 µs\n"
     ]
    }
   ],
   "source": [
    "%%time\n",
    "\n",
    "import math\n",
    "\n",
    "data = [1,2,3,4,5]\n",
    "result = []\n",
    "def process(data):\n",
    "    totalVal = int(math.prod(data))\n",
    "    for i in data:\n",
    "        result.append(totalVal/i)\n",
    "    return result\n",
    "\n",
    "print(process(data))"
   ]
  }
 ],
 "metadata": {
  "kernelspec": {
   "display_name": "Python 3 (ipykernel)",
   "language": "python",
   "name": "python3"
  },
  "language_info": {
   "codemirror_mode": {
    "name": "ipython",
    "version": 3
   },
   "file_extension": ".py",
   "mimetype": "text/x-python",
   "name": "python",
   "nbconvert_exporter": "python",
   "pygments_lexer": "ipython3",
   "version": "3.9.7"
  }
 },
 "nbformat": 4,
 "nbformat_minor": 5
}
